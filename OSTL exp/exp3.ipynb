{
 "cells": [
  {
   "cell_type": "code",
   "execution_count": 1,
   "metadata": {},
   "outputs": [],
   "source": [
    "class Student: # creating class\n",
    "  roll_no = 0\n",
    "  name=''\n",
    "  marks=0\n",
    "  def __init__(self,no,name,m): # constructor\n",
    "    self.roll_no=no\n",
    "    self.name=name\n",
    "    self.marks=m\n",
    "\n",
    "  def Display(self):\n",
    "    print(self.roll_no,self.name,self.marks)\n"
   ]
  },
  {
   "cell_type": "code",
   "execution_count": 2,
   "metadata": {},
   "outputs": [
    {
     "name": "stdout",
     "output_type": "stream",
     "text": [
      "enter roll no (-1 to break): 1\n",
      "enter name : alex\n",
      "enter marks : 19\n",
      "enter roll no (-1 to break): 2\n",
      "enter name : joy\n",
      "enter marks : 12\n",
      "enter roll no (-1 to break): 3\n",
      "enter name : mark\n",
      "enter marks : 16\n",
      "enter roll no (-1 to break): 4\n",
      "enter name : kevin\n",
      "enter marks : 20\n",
      "enter roll no (-1 to break): -1\n",
      "1 alex 19\n",
      "2 joy 12\n",
      "3 mark 16\n",
      "4 kevin 20\n"
     ]
    }
   ],
   "source": [
    "ls=[]\n",
    "var=0\n",
    "while(True):\n",
    "  a=int(input('enter roll no (-1 to break): '))\n",
    "  if(a==-1):\n",
    "    break\n",
    "  b=input('enter name : ')\n",
    "  c=int(input('enter marks : '))\n",
    "  s=Student(a,b,c)# creating object\n",
    "  var=a\n",
    "  ls.append(s)\n",
    "\n",
    "for y in ls:\n",
    "    y.Display()\n",
    "    "
   ]
  },
  {
   "cell_type": "code",
   "execution_count": 3,
   "metadata": {},
   "outputs": [],
   "source": [
    "class Area():\n",
    "  pi=3.14\n",
    "  def circle(self,r):\n",
    "    print('area :',Area.pi*r*r)\n",
    "\n",
    "  def sphere(self,r):\n",
    "    print('area :',4*Area.pi*r*r)"
   ]
  },
  {
   "cell_type": "code",
   "execution_count": 4,
   "metadata": {},
   "outputs": [
    {
     "name": "stdout",
     "output_type": "stream",
     "text": [
      "area : 254.34\n",
      "area : 1017.36\n"
     ]
    }
   ],
   "source": [
    "a=Area()\n",
    "a.circle(9)\n",
    "a.sphere(9)"
   ]
  }
 ],
 "metadata": {
  "kernelspec": {
   "display_name": "Python 3",
   "language": "python",
   "name": "python3"
  },
  "language_info": {
   "codemirror_mode": {
    "name": "ipython",
    "version": 3
   },
   "file_extension": ".py",
   "mimetype": "text/x-python",
   "name": "python",
   "nbconvert_exporter": "python",
   "pygments_lexer": "ipython3",
   "version": "3.8.1"
  }
 },
 "nbformat": 4,
 "nbformat_minor": 4
}
