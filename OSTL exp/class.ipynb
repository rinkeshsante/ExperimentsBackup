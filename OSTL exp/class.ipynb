{
 "cells": [
  {
   "cell_type": "code",
   "execution_count": 1,
   "metadata": {
    "colab": {},
    "colab_type": "code",
    "id": "oK92ylN5vU_2"
   },
   "outputs": [],
   "source": [
    "class Student:\n",
    "  roll_no = 0\n",
    "  name=''\n",
    "  marks=0\n",
    "  def __init__(self,no,name,m):\n",
    "    self.roll_no=no\n",
    "    self.name=name\n",
    "    self.marks=m\n",
    "\n",
    "  def Display(self):\n",
    "    print(self.roll_no,self.name,self.marks)\n",
    "\n"
   ]
  },
  {
   "cell_type": "code",
   "execution_count": 6,
   "metadata": {
    "colab": {
     "base_uri": "https://localhost:8080/",
     "height": 53
    },
    "colab_type": "code",
    "executionInfo": {
     "elapsed": 7541,
     "status": "ok",
     "timestamp": 1580447553749,
     "user": {
      "displayName": "RINKESH SANTE",
      "photoUrl": "https://lh3.googleusercontent.com/a-/AAuE7mBOAjDwT6NQs7OhhkteQ5B-ATmGuZx4Hc50UVna=s64",
      "userId": "07359996124798506453"
     },
     "user_tz": -330
    },
    "id": "0GXa0wqx_X5n",
    "outputId": "27234cb0-17c7-47be-b397-cc7cdf2dc1c8"
   },
   "outputs": [
    {
     "name": "stdout",
     "output_type": "stream",
     "text": [
      "enter roll no (-1 to break): 38\n",
      "enter name : cf\n",
      "enter marks : 3\n",
      "enter roll no (-1 to break): -1\n",
      "38 cf 3\n"
     ]
    }
   ],
   "source": [
    "ls=[]\n",
    "var=0\n",
    "while(True):\n",
    "  a=int(input('enter roll no (-1 to break): '))\n",
    "  if(a==-1):\n",
    "    break\n",
    "  b=input('enter name : ')\n",
    "  c=int(input('enter marks : '))\n",
    "  s=Student(a,b,c)\n",
    "  var=a\n",
    "  ls.append(s)\n",
    "\n",
    "for y in ls:\n",
    "    y.Display()\n",
    "    \n"
   ]
  },
  {
   "cell_type": "code",
   "execution_count": 3,
   "metadata": {
    "colab": {},
    "colab_type": "code",
    "id": "0aGJJzpKATxh"
   },
   "outputs": [],
   "source": [
    "class Area():\n",
    "  pi=3.14\n",
    "  def circle(self,r):\n",
    "    print('area :',Area.pi*r*r)\n",
    "\n",
    "  def sphere(self,r):\n",
    "    print('area :',4*Area.pi*r*r)\n"
   ]
  },
  {
   "cell_type": "code",
   "execution_count": 4,
   "metadata": {
    "colab": {},
    "colab_type": "code",
    "id": "vIxzLut6Cj1d"
   },
   "outputs": [
    {
     "name": "stdout",
     "output_type": "stream",
     "text": [
      "area : 254.34\n",
      "area : 1017.36\n"
     ]
    }
   ],
   "source": [
    "a=Area()\n",
    "a.circle(9)\n",
    "a.sphere(9)"
   ]
  },
  {
   "cell_type": "code",
   "execution_count": null,
   "metadata": {
    "colab": {},
    "colab_type": "code",
    "id": "vw_zw5UDE_QU"
   },
   "outputs": [],
   "source": []
  }
 ],
 "metadata": {
  "colab": {
   "authorship_tag": "ABX9TyNfMl0dD09tuXwO2XhHZQcS",
   "collapsed_sections": [],
   "name": "class.ipynb",
   "provenance": []
  },
  "kernelspec": {
   "display_name": "Python 3",
   "language": "python",
   "name": "python3"
  },
  "language_info": {
   "codemirror_mode": {
    "name": "ipython",
    "version": 3
   },
   "file_extension": ".py",
   "mimetype": "text/x-python",
   "name": "python",
   "nbconvert_exporter": "python",
   "pygments_lexer": "ipython3",
   "version": "3.8.1"
  }
 },
 "nbformat": 4,
 "nbformat_minor": 1
}
