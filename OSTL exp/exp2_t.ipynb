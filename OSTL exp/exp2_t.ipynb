{
 "cells": [
  {
   "cell_type": "code",
   "execution_count": 1,
   "metadata": {
    "colab": {
     "base_uri": "https://localhost:8080/",
     "height": 286
    },
    "colab_type": "code",
    "executionInfo": {
     "elapsed": 63835,
     "status": "ok",
     "timestamp": 1579277413990,
     "user": {
      "displayName": "RINKESH SANTE",
      "photoUrl": "https://lh3.googleusercontent.com/a-/AAuE7mBOAjDwT6NQs7OhhkteQ5B-ATmGuZx4Hc50UVna=s64",
      "userId": "07359996124798506453"
     },
     "user_tz": -330
    },
    "id": "rEvAEVeJykCK",
    "outputId": "5b54c3f5-4be2-4225-858f-6eca4d57ea4d"
   },
   "outputs": [
    {
     "name": "stdout",
     "output_type": "stream",
     "text": [
      "p : palindrome\n",
      "f : factorial\n",
      "q : quit\n",
      ">>> f\n",
      "enter the string/num :89\n",
      "16507955160908461081216919262453619309839666236496541854913520707833171034378509739399912570787600662729080382999756800000000000000000000\n",
      "p : palindrome\n",
      "f : factorial\n",
      "q : quit\n",
      ">>> f\n",
      "enter the string/num :15\n",
      "1307674368000\n",
      "p : palindrome\n",
      "f : factorial\n",
      "q : quit\n",
      ">>> q\n"
     ]
    }
   ],
   "source": [
    "menu = '''p : palindrome\n",
    "f : factorial\n",
    "q : quit\n",
    "'''\n",
    "#print(menu)\n",
    "\n",
    "op = 1\n",
    "\n",
    "def palindrome():\n",
    "    x=input('enter the string/num :')\n",
    "    rev=x[::-1]\n",
    "    if(x==rev):\n",
    "      print('its pallindrone')\n",
    "    else:\n",
    "      print('its not pallindrone')\n",
    "\n",
    "\n",
    "def factorial():\n",
    "    x=int(input('enter the string/num :'))\n",
    "    ans=1\n",
    "    \n",
    "    for i in range(1,x+1):\n",
    "        ans=ans*i\n",
    "  \n",
    "    print(ans)\n",
    "\n",
    "\n",
    "while(True):\n",
    "    op = input(f\"{menu}>>> \")\n",
    "    if op=='p':\n",
    "        palindrome()\n",
    "    elif op=='f':\n",
    "        factorial()\n",
    "    elif op=='q':\n",
    "        break\n",
    "    else:\n",
    "        print('invalid option')\n",
    "        "
   ]
  }
 ],
 "metadata": {
  "colab": {
   "collapsed_sections": [],
   "name": "exp2.ipynb",
   "provenance": [
    {
     "file_id": "1IfFSG4CEJZxeMbJDFhlIeUJVzbXIdP3h",
     "timestamp": 1579237874690
    }
   ]
  },
  "kernelspec": {
   "display_name": "Python 3",
   "language": "python",
   "name": "python3"
  },
  "language_info": {
   "codemirror_mode": {
    "name": "ipython",
    "version": 3
   },
   "file_extension": ".py",
   "mimetype": "text/x-python",
   "name": "python",
   "nbconvert_exporter": "python",
   "pygments_lexer": "ipython3",
   "version": "3.8.1"
  }
 },
 "nbformat": 4,
 "nbformat_minor": 1
}
