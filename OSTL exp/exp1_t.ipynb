{
 "cells": [
  {
   "cell_type": "code",
   "execution_count": 0,
   "metadata": {
    "colab": {},
    "colab_type": "code",
    "id": "Ly3lVljw-Vua",
    "outputId": "2cad59f7-4905-4ae2-9e18-48687360555c"
   },
   "outputs": [
    {
     "name": "stdout",
     "output_type": "stream",
     "text": [
      "enter first number :77\n",
      "enter second number :44\n",
      "before swap\n",
      "77 44\n"
     ]
    }
   ],
   "source": [
    "a = int(input('enter first number :'))\n",
    "b = int(input('enter second number :'))\n",
    "\n",
    "\n",
    "print('before swap')\n",
    "print(a,b)\n",
    "c=a\n",
    "a=b\n",
    "b=c\n",
    "print(a,b)\n",
    "\n",
    "\n",
    "if a == 0:\n",
    "    print('zero')\n",
    "elif a<0:\n",
    "    print('negative')\n",
    "elif a>0:\n",
    "    print('positive')\n"
   ]
  }
 ],
 "metadata": {
  "colab": {
   "collapsed_sections": [],
   "name": "exp1.ipynb",
   "provenance": []
  },
  "kernelspec": {
   "display_name": "Python 3",
   "language": "python",
   "name": "python3"
  },
  "language_info": {
   "codemirror_mode": {
    "name": "ipython",
    "version": 3
   },
   "file_extension": ".py",
   "mimetype": "text/x-python",
   "name": "python",
   "nbconvert_exporter": "python",
   "pygments_lexer": "ipython3",
   "version": "3.8.1"
  }
 },
 "nbformat": 4,
 "nbformat_minor": 1
}
