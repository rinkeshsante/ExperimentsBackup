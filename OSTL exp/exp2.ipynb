{
 "cells": [
  {
   "cell_type": "code",
   "execution_count": 1,
   "metadata": {},
   "outputs": [
    {
     "name": "stdout",
     "output_type": "stream",
     "text": [
      "enter the string/num :gdg\n",
      "its pallindrone\n"
     ]
    }
   ],
   "source": [
    "# fuctions\n",
    "\n",
    "def palindrome():\n",
    "    x=input('enter the string/num :')\n",
    "    rev=x[::-1]\n",
    "    if(x==rev):\n",
    "      print('its pallindrone')\n",
    "    else:\n",
    "      print('its not pallindrone')\n",
    "\n",
    "\n",
    "palindrome()"
   ]
  },
  {
   "cell_type": "code",
   "execution_count": null,
   "metadata": {},
   "outputs": [],
   "source": [
    "# for modules please refer file module_1.py and module_2.py"
   ]
  },
  {
   "cell_type": "code",
   "execution_count": null,
   "metadata": {},
   "outputs": [],
   "source": [
    "# for package please refer file package_1.py and package_2.py"
   ]
  }
 ],
 "metadata": {
  "kernelspec": {
   "display_name": "Python 3",
   "language": "python",
   "name": "python3"
  },
  "language_info": {
   "codemirror_mode": {
    "name": "ipython",
    "version": 3
   },
   "file_extension": ".py",
   "mimetype": "text/x-python",
   "name": "python",
   "nbconvert_exporter": "python",
   "pygments_lexer": "ipython3",
   "version": "3.8.1"
  }
 },
 "nbformat": 4,
 "nbformat_minor": 4
}
