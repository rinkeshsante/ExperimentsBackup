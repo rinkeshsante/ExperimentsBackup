{
 "cells": [
  {
   "cell_type": "code",
   "execution_count": 0,
   "metadata": {
    "colab": {},
    "colab_type": "code",
    "id": "-25W96kesHMG"
   },
   "outputs": [],
   "source": [
    "num=20\n",
    "letter='A'\n",
    "msg='hello there'\n",
    "pi=3.145465747474\n",
    "population=65464654845\n",
    "\n",
    "print(num)\n",
    "print(letter)\n",
    "print(msg)\n",
    "print(pi)\n",
    "print(population)"
   ]
  },
  {
   "cell_type": "code",
   "execution_count": 3,
   "metadata": {
    "colab": {
     "base_uri": "https://localhost:8080/",
     "height": 69
    },
    "colab_type": "code",
    "executionInfo": {
     "elapsed": 14017,
     "status": "ok",
     "timestamp": 1579234576691,
     "user": {
      "displayName": "RINKESH SANTE",
      "photoUrl": "https://lh3.googleusercontent.com/a-/AAuE7mBOAjDwT6NQs7OhhkteQ5B-ATmGuZx4Hc50UVna=s64",
      "userId": "07359996124798506453"
     },
     "user_tz": -330
    },
    "id": "2KT9XQkLsI-B",
    "outputId": "d44d4f8b-71ec-4811-a7f2-047c82a51c6c"
   },
   "outputs": [
    {
     "name": "stdout",
     "output_type": "stream",
     "text": [
      "enter the first number :45\n",
      "enter the second number :20\n"
     ]
    },
    {
     "data": {
      "text/plain": [
       "65"
      ]
     },
     "execution_count": 3,
     "metadata": {
      "tags": []
     },
     "output_type": "execute_result"
    }
   ],
   "source": [
    "a=int(input('enter the first number :'))\n",
    "b=int(input('enter the second number :'))\n",
    "a+b"
   ]
  },
  {
   "cell_type": "code",
   "execution_count": 5,
   "metadata": {
    "colab": {
     "base_uri": "https://localhost:8080/",
     "height": 69
    },
    "colab_type": "code",
    "executionInfo": {
     "elapsed": 16131,
     "status": "ok",
     "timestamp": 1579234912088,
     "user": {
      "displayName": "RINKESH SANTE",
      "photoUrl": "https://lh3.googleusercontent.com/a-/AAuE7mBOAjDwT6NQs7OhhkteQ5B-ATmGuZx4Hc50UVna=s64",
      "userId": "07359996124798506453"
     },
     "user_tz": -330
    },
    "id": "pGV5z5untxG3",
    "outputId": "196de003-538d-4a4d-826a-c775f570bed3"
   },
   "outputs": [
    {
     "name": "stdout",
     "output_type": "stream",
     "text": [
      "enter your name: sam\n",
      "enter your age: 12\n",
      "sam your age is 12 years\n"
     ]
    }
   ],
   "source": [
    "name= input('enter your name: ')\n",
    "age = int(input('enter your age: '))\n",
    "print(name + ' your age is {}'.format(age) +' years')"
   ]
  },
  {
   "cell_type": "code",
   "execution_count": 10,
   "metadata": {
    "colab": {
     "base_uri": "https://localhost:8080/",
     "height": 86
    },
    "colab_type": "code",
    "executionInfo": {
     "elapsed": 7754,
     "status": "ok",
     "timestamp": 1579235419841,
     "user": {
      "displayName": "RINKESH SANTE",
      "photoUrl": "https://lh3.googleusercontent.com/a-/AAuE7mBOAjDwT6NQs7OhhkteQ5B-ATmGuZx4Hc50UVna=s64",
      "userId": "07359996124798506453"
     },
     "user_tz": -330
    },
    "id": "bfT0wDOhu2F1",
    "outputId": "462c8340-2345-485c-edaf-31bc57d140f4"
   },
   "outputs": [
    {
     "name": "stdout",
     "output_type": "stream",
     "text": [
      "enter first side : 3\n",
      "enter second side : 4\n",
      "enter last side : 5\n"
     ]
    },
    {
     "data": {
      "text/plain": [
       "6.0"
      ]
     },
     "execution_count": 10,
     "metadata": {
      "tags": []
     },
     "output_type": "execute_result"
    }
   ],
   "source": [
    "from math import sqrt\n",
    "#import math\n",
    "a=int(input('enter first side : '))\n",
    "b=int(input('enter second side : '))\n",
    "c=int(input('enter last side : '))\n",
    "\n",
    "s=(a+b+c)/2\n",
    "\n",
    "#area = math.sqrt(s*(s-a)*(s-b)*(s-c))\n",
    "area = sqrt(s*(s-a)*(s-b)*(s-c))\n",
    "\n",
    "area"
   ]
  },
  {
   "cell_type": "code",
   "execution_count": 21,
   "metadata": {
    "colab": {
     "base_uri": "https://localhost:8080/",
     "height": 173
    },
    "colab_type": "code",
    "executionInfo": {
     "elapsed": 9278,
     "status": "ok",
     "timestamp": 1579236563172,
     "user": {
      "displayName": "RINKESH SANTE",
      "photoUrl": "https://lh3.googleusercontent.com/a-/AAuE7mBOAjDwT6NQs7OhhkteQ5B-ATmGuZx4Hc50UVna=s64",
      "userId": "07359996124798506453"
     },
     "user_tz": -330
    },
    "id": "nTtRQ8Bsv801",
    "outputId": "258b8c43-6e84-4368-b469-f120139c96a2"
   },
   "outputs": [
    {
     "name": "stdout",
     "output_type": "stream",
     "text": [
      "enter the quantity: 20\n",
      "enter the price per item: 40\n",
      "enter discount in % : 15\n",
      "enter tax rate:10\n",
      "total cost :800\n",
      "total discount :80.0\n",
      "after apply discount:720.0\n",
      "total tax :72.0\n",
      "amount to be paid 792.0\n"
     ]
    }
   ],
   "source": [
    "quant=int(input('enter the quantity: '))\n",
    "price= int(input('enter the price per item: '))\n",
    "dis=float(input('enter discount in % : '))/100\n",
    "gst=float(input('enter tax rate:'))/100\n",
    "total=quant*price\n",
    "print('total cost :'+str(total))\n",
    "discount=total*gst\n",
    "print('total discount :'+str(discount))\n",
    "total= total-discount\n",
    "print('after apply discount:'+str(total))\n",
    "\n",
    "tax=total*gst\n",
    "print('total tax :'+str(tax))\n",
    "total=total+tax\n",
    "print('amount to be paid '+str(total))"
   ]
  },
  {
   "cell_type": "code",
   "execution_count": 22,
   "metadata": {
    "colab": {
     "base_uri": "https://localhost:8080/",
     "height": 104
    },
    "colab_type": "code",
    "executionInfo": {
     "elapsed": 18255,
     "status": "ok",
     "timestamp": 1579236968337,
     "user": {
      "displayName": "RINKESH SANTE",
      "photoUrl": "https://lh3.googleusercontent.com/a-/AAuE7mBOAjDwT6NQs7OhhkteQ5B-ATmGuZx4Hc50UVna=s64",
      "userId": "07359996124798506453"
     },
     "user_tz": -330
    },
    "id": "b4U0JzWbyKdl",
    "outputId": "c8ea87c7-85c4-48c7-be5d-1652c8cb374e"
   },
   "outputs": [
    {
     "name": "stdout",
     "output_type": "stream",
     "text": [
      "enter no of 10 rupee coins :1500\n",
      "enter no of 5 rupee coins :2\n",
      "enter no of 2 rupee coins :1\n",
      "enter no of 1 rupee coins :1\n",
      "total is 15013\n"
     ]
    }
   ],
   "source": [
    "n10=int(input('enter no of 10 rupee coins :'))\n",
    "n5=int(input('enter no of 5 rupee coins :'))\n",
    "n2=int(input('enter no of 2 rupee coins :'))\n",
    "n1=int(input('enter no of 1 rupee coins :'))\n",
    "\n",
    "ans = n10*10 + n5*5 +n2*2 +n1\n",
    "\n",
    "print('total is '+str(ans))"
   ]
  },
  {
   "cell_type": "code",
   "execution_count": 24,
   "metadata": {
    "colab": {
     "base_uri": "https://localhost:8080/",
     "height": 121
    },
    "colab_type": "code",
    "executionInfo": {
     "elapsed": 10892,
     "status": "ok",
     "timestamp": 1579237302089,
     "user": {
      "displayName": "RINKESH SANTE",
      "photoUrl": "https://lh3.googleusercontent.com/a-/AAuE7mBOAjDwT6NQs7OhhkteQ5B-ATmGuZx4Hc50UVna=s64",
      "userId": "07359996124798506453"
     },
     "user_tz": -330
    },
    "id": "wRQrLfdZ236o",
    "outputId": "7cfff50c-f184-4296-ba77-b13e802877eb"
   },
   "outputs": [
    {
     "name": "stdout",
     "output_type": "stream",
     "text": [
      "all in %\n",
      "enter score in sports :100\n",
      "enter score in activity 1 :100\n",
      "enter score in activity 2 :100\n",
      "enter score in activity 3 :100\n",
      "total is 100.0\n"
     ]
    }
   ],
   "source": [
    "print('all in %')\n",
    "s=float(input('enter score in sports :'))\n",
    "a1=float(input('enter score in activity 1 :'))\n",
    "a2=float(input('enter score in activity 2 :'))\n",
    "a3=float(input('enter score in activity 3 :'))\n",
    "\n",
    "ans = s*.5 + a1*.15 +a2*.1+a3*.25\n",
    "\n",
    "print('total is '+str(ans))"
   ]
  },
  {
   "cell_type": "code",
   "execution_count": 0,
   "metadata": {
    "colab": {},
    "colab_type": "code",
    "id": "Hvc-9Dlz4Dim"
   },
   "outputs": [],
   "source": []
  }
 ],
 "metadata": {
  "colab": {
   "authorship_tag": "ABX9TyOTfDMwT2bAGgv4WayY5jFw",
   "collapsed_sections": [],
   "name": "Basics.ipynb",
   "provenance": []
  },
  "kernelspec": {
   "display_name": "Python 3",
   "language": "python",
   "name": "python3"
  },
  "language_info": {
   "codemirror_mode": {
    "name": "ipython",
    "version": 3
   },
   "file_extension": ".py",
   "mimetype": "text/x-python",
   "name": "python",
   "nbconvert_exporter": "python",
   "pygments_lexer": "ipython3",
   "version": "3.8.1"
  }
 },
 "nbformat": 4,
 "nbformat_minor": 1
}
