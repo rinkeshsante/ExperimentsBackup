{
 "cells": [
  {
   "cell_type": "code",
   "execution_count": 14,
   "metadata": {},
   "outputs": [
    {
     "name": "stdout",
     "output_type": "stream",
     "text": [
      "31\n"
     ]
    }
   ],
   "source": [
    "# Write a program to count no of lines, words and characters in a given file.\n",
    "\n",
    "f1 = open(\"file1.txt\",\"r\")\n",
    "st = f1.read()\n",
    "word_list = st.split(\" \")\n",
    "print(len(word_list))\n",
    "f1.close()"
   ]
  },
  {
   "cell_type": "code",
   "execution_count": 16,
   "metadata": {},
   "outputs": [
    {
     "name": "stdout",
     "output_type": "stream",
     "text": [
      "enter the count of numbres : 8\n",
      "enter the number : 1\n",
      "enter the number : 33\n",
      "enter the number : 70\n",
      "enter the number : 33\n",
      "enter the number : 2\n",
      "enter the number : 55\n",
      "enter the number : 3\n",
      "enter the number : -2\n"
     ]
    }
   ],
   "source": [
    "#Write a program which stores numbers in one file, read the file and create two files by checking the even and odd numbers.\n",
    "\n",
    "\n",
    "#1\n",
    "size = int(input(\"enter the count of numbres : \"))\n",
    "ls_1 = []\n",
    "for y in range(size):\n",
    "    ls_1.append(int(input(\"enter the number : \")))\n",
    "\n",
    "f2 = open(\"file2.txt\",\"w\")\n",
    "\n",
    "for n in ls_1:\n",
    "    f2.write(str(n)+' ')\n",
    "    \n",
    "f2.close()\n"
   ]
  },
  {
   "cell_type": "code",
   "execution_count": 17,
   "metadata": {},
   "outputs": [],
   "source": [
    "#2\n",
    "f2 = open(\"file2.txt\",\"r\")\n",
    "nums = f2.read()\n",
    "f2.close()\n",
    "ls_1 = list(map(int,nums.split()))\n",
    "\n",
    "\n",
    "f3 = open(\"even.txt\",\"w\")\n",
    "f4 = open(\"odd.txt\",\"w\")\n",
    "\n",
    "for n in ls_1:\n",
    "    if n%2 ==0:\n",
    "        f3.write(str(n)+' ')\n",
    "    else:\n",
    "        f4.write(str(n)+' ')\n",
    "\n",
    "f3.close()\n",
    "f4.close()\n"
   ]
  },
  {
   "cell_type": "code",
   "execution_count": 18,
   "metadata": {},
   "outputs": [
    {
     "data": {
      "text/plain": [
       "environ{'ALLUSERSPROFILE': 'C:\\\\ProgramData',\n",
       "        'APPDATA': 'C:\\\\Users\\\\Rinkesh\\\\AppData\\\\Roaming',\n",
       "        'COMMONPROGRAMFILES': 'C:\\\\Program Files\\\\Common Files',\n",
       "        'COMMONPROGRAMFILES(X86)': 'C:\\\\Program Files (x86)\\\\Common Files',\n",
       "        'COMMONPROGRAMW6432': 'C:\\\\Program Files\\\\Common Files',\n",
       "        'COMPUTERNAME': 'LAPTOP-DT2B2VI1',\n",
       "        'COMSPEC': 'C:\\\\WINDOWS\\\\system32\\\\cmd.exe',\n",
       "        'CONFIGSETROOT': 'C:\\\\WINDOWS\\\\ConfigSetRoot',\n",
       "        'DRIVERDATA': 'C:\\\\Windows\\\\System32\\\\Drivers\\\\DriverData',\n",
       "        'FPS_BROWSER_APP_PROFILE_STRING': 'Internet Explorer',\n",
       "        'FPS_BROWSER_USER_PROFILE_STRING': 'Default',\n",
       "        'HOMEDRIVE': 'C:',\n",
       "        'HOMEPATH': '\\\\Users\\\\Rinkesh',\n",
       "        'LOCALAPPDATA': 'C:\\\\Users\\\\Rinkesh\\\\AppData\\\\Local',\n",
       "        'LOGONSERVER': '\\\\\\\\LAPTOP-DT2B2VI1',\n",
       "        'NUMBER_OF_PROCESSORS': '4',\n",
       "        'ONEDRIVE': 'C:\\\\Users\\\\Rinkesh\\\\OneDrive',\n",
       "        'ONEDRIVECONSUMER': 'C:\\\\Users\\\\Rinkesh\\\\OneDrive',\n",
       "        'OS': 'Windows_NT',\n",
       "        'PATH': 'C:\\\\Program Files (x86)\\\\Common Files\\\\Oracle\\\\Java\\\\javapath;C:\\\\Program Files (x86)\\\\Intel\\\\Intel(R) Management Engine Components\\\\iCLS\\\\;C:\\\\Program Files\\\\Intel\\\\Intel(R) Management Engine Components\\\\iCLS\\\\;C:\\\\WINDOWS\\\\system32;C:\\\\WINDOWS;C:\\\\WINDOWS\\\\System32\\\\Wbem;C:\\\\WINDOWS\\\\System32\\\\WindowsPowerShell\\\\v1.0\\\\;C:\\\\Program Files (x86)\\\\Intel\\\\Intel(R) Management Engine Components\\\\DAL;C:\\\\Program Files\\\\Intel\\\\Intel(R) Management Engine Components\\\\DAL;C:\\\\Program Files (x86)\\\\Intel\\\\Intel(R) Management Engine Components\\\\IPT;C:\\\\Program Files\\\\Intel\\\\Intel(R) Management Engine Components\\\\IPT;C:\\\\WINDOWS\\\\System32\\\\OpenSSH\\\\;C:\\\\Program Files\\\\Git\\\\cmd;C:\\\\Users\\\\Rinkesh\\\\AppData\\\\Local\\\\Programs\\\\Python\\\\Python38\\\\Scripts\\\\;C:\\\\Users\\\\Rinkesh\\\\AppData\\\\Local\\\\Programs\\\\Python\\\\Python38\\\\;C:\\\\Users\\\\Rinkesh\\\\AppData\\\\Local\\\\Microsoft\\\\WindowsApps;C:\\\\Program Files\\\\JetBrains\\\\PyCharm Community Edition 2019.3.1\\\\bin;C:\\\\Users\\\\Rinkesh\\\\AppData\\\\Local\\\\Programs\\\\Microsoft VS Code\\\\bin',\n",
       "        'PATHEXT': '.COM;.EXE;.BAT;.CMD;.VBS;.VBE;.JS;.JSE;.WSF;.WSH;.MSC',\n",
       "        'PROCESSOR_ARCHITECTURE': 'AMD64',\n",
       "        'PROCESSOR_IDENTIFIER': 'Intel64 Family 6 Model 142 Stepping 10, GenuineIntel',\n",
       "        'PROCESSOR_LEVEL': '6',\n",
       "        'PROCESSOR_REVISION': '8e0a',\n",
       "        'PROGRAMDATA': 'C:\\\\ProgramData',\n",
       "        'PROGRAMFILES': 'C:\\\\Program Files',\n",
       "        'PROGRAMFILES(X86)': 'C:\\\\Program Files (x86)',\n",
       "        'PROGRAMW6432': 'C:\\\\Program Files',\n",
       "        'PROMPT': '$P$G',\n",
       "        'PSMODULEPATH': 'C:\\\\Program Files\\\\WindowsPowerShell\\\\Modules;C:\\\\WINDOWS\\\\system32\\\\WindowsPowerShell\\\\v1.0\\\\Modules',\n",
       "        'PUBLIC': 'C:\\\\Users\\\\Public',\n",
       "        'PYCHARM COMMUNITY EDITION': 'C:\\\\Program Files\\\\JetBrains\\\\PyCharm Community Edition 2019.3.1\\\\bin;',\n",
       "        'SESSIONNAME': 'Console',\n",
       "        'SYSTEMDRIVE': 'C:',\n",
       "        'SYSTEMROOT': 'C:\\\\WINDOWS',\n",
       "        'TEMP': 'C:\\\\Users\\\\Rinkesh\\\\AppData\\\\Local\\\\Temp',\n",
       "        'TMP': 'C:\\\\Users\\\\Rinkesh\\\\AppData\\\\Local\\\\Temp',\n",
       "        'USERDOMAIN': 'LAPTOP-DT2B2VI1',\n",
       "        'USERDOMAIN_ROAMINGPROFILE': 'LAPTOP-DT2B2VI1',\n",
       "        'USERNAME': 'Rinkesh',\n",
       "        'USERPROFILE': 'C:\\\\Users\\\\Rinkesh',\n",
       "        'WINDIR': 'C:\\\\WINDOWS',\n",
       "        'KERNEL_LAUNCH_TIMEOUT': '40',\n",
       "        'JPY_INTERRUPT_EVENT': '2280',\n",
       "        'IPY_INTERRUPT_EVENT': '2280',\n",
       "        'JPY_PARENT_PID': '2628',\n",
       "        'TERM': 'xterm-color',\n",
       "        'CLICOLOR': '1',\n",
       "        'PAGER': 'cat',\n",
       "        'GIT_PAGER': 'cat',\n",
       "        'MPLBACKEND': 'module://ipykernel.pylab.backend_inline'}"
      ]
     },
     "execution_count": 18,
     "metadata": {},
     "output_type": "execute_result"
    }
   ],
   "source": [
    "# Demonstrate the methods of OS package.\n",
    "\n",
    "import os\n",
    "os.environ #retutns library contaion information about OS"
   ]
  },
  {
   "cell_type": "code",
   "execution_count": 19,
   "metadata": {},
   "outputs": [
    {
     "data": {
      "text/plain": [
       "'Rinkesh'"
      ]
     },
     "execution_count": 19,
     "metadata": {},
     "output_type": "execute_result"
    }
   ],
   "source": [
    "os.environ['USERNAME'] # accesing one element "
   ]
  },
  {
   "cell_type": "code",
   "execution_count": 20,
   "metadata": {},
   "outputs": [
    {
     "data": {
      "text/plain": [
       "'C:\\\\Users\\\\Rinkesh\\\\Desktop\\\\Dev\\\\OSTL'"
      ]
     },
     "execution_count": 20,
     "metadata": {},
     "output_type": "execute_result"
    }
   ],
   "source": [
    "os.getcwd() # print adders to current working directories"
   ]
  },
  {
   "cell_type": "code",
   "execution_count": 21,
   "metadata": {},
   "outputs": [
    {
     "data": {
      "text/plain": [
       "'C:\\\\Users\\\\Rinkesh\\\\Desktop\\\\Dev'"
      ]
     },
     "execution_count": 21,
     "metadata": {},
     "output_type": "execute_result"
    }
   ],
   "source": [
    "os.chdir('C:\\\\Users\\\\Rinkesh\\\\Desktop\\\\Dev')\n",
    "os.getcwd()# to change working directory"
   ]
  },
  {
   "cell_type": "code",
   "execution_count": 22,
   "metadata": {},
   "outputs": [],
   "source": [
    "os.chdir('C:\\\\Users\\\\Rinkesh\\\\Desktop\\\\Dev\\\\OSTL')# return to orginal directory"
   ]
  },
  {
   "cell_type": "code",
   "execution_count": 23,
   "metadata": {},
   "outputs": [
    {
     "data": {
      "text/plain": [
       "['.git',\n",
       " '.ipynb_checkpoints',\n",
       " 'Basics.ipynb',\n",
       " 'class.ipynb',\n",
       " 'even.txt',\n",
       " 'exp1.ipynb',\n",
       " 'exp1_t.ipynb',\n",
       " 'exp2.ipynb',\n",
       " 'exp2_t.ipynb',\n",
       " 'exp3.ipynb',\n",
       " 'exp3_t.ipynb',\n",
       " 'exp4.ipynb',\n",
       " 'exp5.ipynb',\n",
       " 'file1.txt',\n",
       " 'file2.txt',\n",
       " 'func.ipynb',\n",
       " 'Loops.ipynb',\n",
       " 'module_1.py',\n",
       " 'module_2.py',\n",
       " 'odd.txt',\n",
       " 'os.txt',\n",
       " 'package_1.py',\n",
       " 'package_2.py',\n",
       " '__pycache__']"
      ]
     },
     "execution_count": 23,
     "metadata": {},
     "output_type": "execute_result"
    }
   ],
   "source": [
    "os.listdir() #print all diles and folders present in cwd"
   ]
  },
  {
   "cell_type": "code",
   "execution_count": 24,
   "metadata": {
    "scrolled": true
   },
   "outputs": [
    {
     "data": {
      "text/plain": [
       "['.git',\n",
       " '.ipynb_checkpoints',\n",
       " 'Basics.ipynb',\n",
       " 'class.ipynb',\n",
       " 'even.txt',\n",
       " 'exp1.ipynb',\n",
       " 'exp1_t.ipynb',\n",
       " 'exp2.ipynb',\n",
       " 'exp2_t.ipynb',\n",
       " 'exp3.ipynb',\n",
       " 'exp3_t.ipynb',\n",
       " 'exp4.ipynb',\n",
       " 'exp5.ipynb',\n",
       " 'file1.txt',\n",
       " 'file2.txt',\n",
       " 'func.ipynb',\n",
       " 'hello',\n",
       " 'Loops.ipynb',\n",
       " 'module_1.py',\n",
       " 'module_2.py',\n",
       " 'odd.txt',\n",
       " 'os.txt',\n",
       " 'package_1.py',\n",
       " 'package_2.py',\n",
       " '__pycache__']"
      ]
     },
     "execution_count": 24,
     "metadata": {},
     "output_type": "execute_result"
    }
   ],
   "source": [
    "os.mkdir('hello') # create required directory\n",
    "os.listdir()"
   ]
  },
  {
   "cell_type": "code",
   "execution_count": 25,
   "metadata": {},
   "outputs": [
    {
     "data": {
      "text/plain": [
       "['.git',\n",
       " '.ipynb_checkpoints',\n",
       " 'Basics.ipynb',\n",
       " 'class.ipynb',\n",
       " 'even.txt',\n",
       " 'exp1.ipynb',\n",
       " 'exp1_t.ipynb',\n",
       " 'exp2.ipynb',\n",
       " 'exp2_t.ipynb',\n",
       " 'exp3.ipynb',\n",
       " 'exp3_t.ipynb',\n",
       " 'exp4.ipynb',\n",
       " 'exp5.ipynb',\n",
       " 'file1.txt',\n",
       " 'file2.txt',\n",
       " 'func.ipynb',\n",
       " 'Loops.ipynb',\n",
       " 'module_1.py',\n",
       " 'module_2.py',\n",
       " 'odd.txt',\n",
       " 'os.txt',\n",
       " 'package_1.py',\n",
       " 'package_2.py',\n",
       " '__pycache__']"
      ]
     },
     "execution_count": 25,
     "metadata": {},
     "output_type": "execute_result"
    }
   ],
   "source": [
    "os.rmdir('hello') #remove directory\n",
    "os.listdir()"
   ]
  },
  {
   "cell_type": "code",
   "execution_count": 27,
   "metadata": {},
   "outputs": [
    {
     "data": {
      "text/plain": [
       "['.git',\n",
       " '.ipynb_checkpoints',\n",
       " 'Basics.ipynb',\n",
       " 'class.ipynb',\n",
       " 'even.txt',\n",
       " 'exp1.ipynb',\n",
       " 'exp1_t.ipynb',\n",
       " 'exp2.ipynb',\n",
       " 'exp2_t.ipynb',\n",
       " 'exp3.ipynb',\n",
       " 'exp3_t.ipynb',\n",
       " 'exp4.ipynb',\n",
       " 'exp5.ipynb',\n",
       " 'file1.txt',\n",
       " 'file2.txt',\n",
       " 'func.ipynb',\n",
       " 'Loops.ipynb',\n",
       " 'module_1.py',\n",
       " 'module_2.py',\n",
       " 'odd.txt',\n",
       " 'os.txt',\n",
       " 'os2.txt',\n",
       " 'package_1.py',\n",
       " 'package_2.py',\n",
       " '__pycache__']"
      ]
     },
     "execution_count": 27,
     "metadata": {},
     "output_type": "execute_result"
    }
   ],
   "source": [
    "os.rename('os1.txt','os2.txt') # rename file\n",
    "os.listdir()"
   ]
  },
  {
   "cell_type": "code",
   "execution_count": 28,
   "metadata": {},
   "outputs": [],
   "source": [
    "os.remove('os2.txt')"
   ]
  },
  {
   "cell_type": "code",
   "execution_count": 29,
   "metadata": {},
   "outputs": [
    {
     "data": {
      "text/plain": [
       "os.stat_result(st_mode=33206, st_ino=10414574138306490, st_dev=374809523, st_nlink=1, st_uid=0, st_gid=0, st_size=17, st_atime=1586009849, st_mtime=1586009359, st_ctime=1586009346)"
      ]
     },
     "execution_count": 29,
     "metadata": {},
     "output_type": "execute_result"
    }
   ],
   "source": [
    "os.stat('os.txt') # return some data about file"
   ]
  },
  {
   "cell_type": "code",
   "execution_count": 30,
   "metadata": {},
   "outputs": [
    {
     "name": "stdout",
     "output_type": "stream",
     "text": [
      "C:\\Users\\Rinkesh\\Desktop\\Dev\\OSTL ['.git', '.ipynb_checkpoints', '__pycache__'] ['Basics.ipynb', 'class.ipynb', 'even.txt', 'exp1.ipynb', 'exp1_t.ipynb', 'exp2.ipynb', 'exp2_t.ipynb', 'exp3.ipynb', 'exp3_t.ipynb', 'exp4.ipynb', 'exp5.ipynb', 'file1.txt', 'file2.txt', 'func.ipynb', 'Loops.ipynb', 'module_1.py', 'module_2.py', 'odd.txt', 'os.txt', 'package_1.py', 'package_2.py']\n",
      "\n",
      "C:\\Users\\Rinkesh\\Desktop\\Dev\\OSTL\\.git ['hooks', 'info', 'objects', 'refs'] ['config', 'description', 'HEAD', 'index']\n",
      "\n",
      "C:\\Users\\Rinkesh\\Desktop\\Dev\\OSTL\\.git\\hooks [] ['applypatch-msg.sample', 'commit-msg.sample', 'fsmonitor-watchman.sample', 'post-update.sample', 'pre-applypatch.sample', 'pre-commit.sample', 'pre-merge-commit.sample', 'pre-push.sample', 'pre-rebase.sample', 'pre-receive.sample', 'prepare-commit-msg.sample', 'update.sample']\n",
      "\n",
      "C:\\Users\\Rinkesh\\Desktop\\Dev\\OSTL\\.git\\info [] ['exclude']\n",
      "\n",
      "C:\\Users\\Rinkesh\\Desktop\\Dev\\OSTL\\.git\\objects ['03', '0a', '0e', '17', '38', '42', '58', '75', '89', '8f', '94', '97', '99', 'a2', 'bd', 'c2', 'dc', 'info', 'pack'] []\n",
      "\n",
      "C:\\Users\\Rinkesh\\Desktop\\Dev\\OSTL\\.git\\objects\\03 [] ['63c22c367dd322b3c1aca4b12b6ffe49f0441c']\n",
      "\n",
      "C:\\Users\\Rinkesh\\Desktop\\Dev\\OSTL\\.git\\objects\\0a [] ['c70cdd4e2959ad83b875210596ba0637a95376']\n",
      "\n",
      "C:\\Users\\Rinkesh\\Desktop\\Dev\\OSTL\\.git\\objects\\0e [] ['04729cdd5f177542e19db7700979bb1817bcec']\n",
      "\n",
      "C:\\Users\\Rinkesh\\Desktop\\Dev\\OSTL\\.git\\objects\\17 [] ['0f2e4387d11af51d7116d423e087d3bd584a6f']\n",
      "\n",
      "C:\\Users\\Rinkesh\\Desktop\\Dev\\OSTL\\.git\\objects\\38 [] ['219b7496a434cf635430d5303d8c2950218161']\n",
      "\n",
      "C:\\Users\\Rinkesh\\Desktop\\Dev\\OSTL\\.git\\objects\\42 [] ['1e3412be0e11062dc47c1ee21e4db248eded3f', 'f6bd462f311a5dd5ff095469b7dabc5cc8dcb5']\n",
      "\n",
      "C:\\Users\\Rinkesh\\Desktop\\Dev\\OSTL\\.git\\objects\\58 [] ['68cd8d548dca3dd3777f0806823947b74754ee']\n",
      "\n",
      "C:\\Users\\Rinkesh\\Desktop\\Dev\\OSTL\\.git\\objects\\75 [] ['a3a14bb9f73c1b4517bf2f6b8ec0f612ff07a3']\n",
      "\n",
      "C:\\Users\\Rinkesh\\Desktop\\Dev\\OSTL\\.git\\objects\\89 [] ['14a0493df26a243f7daf39030f55c4e6a4fee1']\n",
      "\n",
      "C:\\Users\\Rinkesh\\Desktop\\Dev\\OSTL\\.git\\objects\\8f [] ['d2fe09779400558fe2ee989ba051254988f5f4']\n",
      "\n",
      "C:\\Users\\Rinkesh\\Desktop\\Dev\\OSTL\\.git\\objects\\94 [] ['4c3b759ec915032f09e491755bebd1f2cf044b']\n",
      "\n",
      "C:\\Users\\Rinkesh\\Desktop\\Dev\\OSTL\\.git\\objects\\97 [] ['1711f02300edc8536900f02c6fe0a7a5c44345']\n",
      "\n",
      "C:\\Users\\Rinkesh\\Desktop\\Dev\\OSTL\\.git\\objects\\99 [] ['b6e6866cd24a2eeed1492f983b4f5943317761']\n",
      "\n",
      "C:\\Users\\Rinkesh\\Desktop\\Dev\\OSTL\\.git\\objects\\a2 [] ['fd649742e587e98d73f672562db8e55ac32e12']\n",
      "\n",
      "C:\\Users\\Rinkesh\\Desktop\\Dev\\OSTL\\.git\\objects\\bd [] ['ef342d3ca235806a6454bac06b114d24102c28']\n",
      "\n",
      "C:\\Users\\Rinkesh\\Desktop\\Dev\\OSTL\\.git\\objects\\c2 [] ['46d54552215aebc624af4143be54ece88e0061']\n",
      "\n",
      "C:\\Users\\Rinkesh\\Desktop\\Dev\\OSTL\\.git\\objects\\dc [] ['703e177da656e9dcd0d048be9936c93d58de0c']\n",
      "\n",
      "C:\\Users\\Rinkesh\\Desktop\\Dev\\OSTL\\.git\\objects\\info [] []\n",
      "\n",
      "C:\\Users\\Rinkesh\\Desktop\\Dev\\OSTL\\.git\\objects\\pack [] []\n",
      "\n",
      "C:\\Users\\Rinkesh\\Desktop\\Dev\\OSTL\\.git\\refs ['heads', 'tags'] []\n",
      "\n",
      "C:\\Users\\Rinkesh\\Desktop\\Dev\\OSTL\\.git\\refs\\heads [] []\n",
      "\n",
      "C:\\Users\\Rinkesh\\Desktop\\Dev\\OSTL\\.git\\refs\\tags [] []\n",
      "\n",
      "C:\\Users\\Rinkesh\\Desktop\\Dev\\OSTL\\.ipynb_checkpoints [] ['Basics-checkpoint.ipynb', 'class-checkpoint.ipynb', 'exp1-checkpoint.ipynb', 'exp2-checkpoint.ipynb', 'exp3-checkpoint.ipynb', 'exp4-checkpoint.ipynb', 'exp5-checkpoint.ipynb', 'sub1-checkpoint.ipynb']\n",
      "\n",
      "C:\\Users\\Rinkesh\\Desktop\\Dev\\OSTL\\__pycache__ [] ['module_1.cpython-38.pyc', 'package_1.cpython-38.pyc']\n",
      "\n"
     ]
    }
   ],
   "source": [
    "for name,dire,files in os.walk(os.getcwd()): # to explore the pertcular folder \n",
    "    print(name,dire,files)\n",
    "    print()"
   ]
  },
  {
   "cell_type": "code",
   "execution_count": 31,
   "metadata": {},
   "outputs": [
    {
     "data": {
      "text/plain": [
       "('hello', '.py')"
      ]
     },
     "execution_count": 31,
     "metadata": {},
     "output_type": "execute_result"
    }
   ],
   "source": [
    "os.path.splitext('hello.py') # to work with file names"
   ]
  },
  {
   "cell_type": "code",
   "execution_count": null,
   "metadata": {},
   "outputs": [],
   "source": []
  }
 ],
 "metadata": {
  "kernelspec": {
   "display_name": "Python 3",
   "language": "python",
   "name": "python3"
  },
  "language_info": {
   "codemirror_mode": {
    "name": "ipython",
    "version": 3
   },
   "file_extension": ".py",
   "mimetype": "text/x-python",
   "name": "python",
   "nbconvert_exporter": "python",
   "pygments_lexer": "ipython3",
   "version": "3.8.1"
  }
 },
 "nbformat": 4,
 "nbformat_minor": 4
}
