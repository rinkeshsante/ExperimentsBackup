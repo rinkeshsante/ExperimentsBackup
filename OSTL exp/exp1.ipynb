{
 "cells": [
  {
   "cell_type": "code",
   "execution_count": 1,
   "metadata": {},
   "outputs": [
    {
     "name": "stdout",
     "output_type": "stream",
     "text": [
      "enter the expression :10*8+3-2\n",
      "81\n"
     ]
    }
   ],
   "source": [
    "# calculator\n",
    "\n",
    "statement = input(\"enter the expression :\")\n",
    "\n",
    "try:\n",
    "    print(eval(statement)) \n",
    "except:\n",
    "    print(\"invalid expression or error\")"
   ]
  },
  {
   "cell_type": "code",
   "execution_count": 2,
   "metadata": {},
   "outputs": [
    {
     "name": "stdout",
     "output_type": "stream",
     "text": [
      "enter the string/num :nitin\n",
      "its pallindrone\n"
     ]
    }
   ],
   "source": [
    "#palindrome \n",
    "\n",
    "def palindrome():\n",
    "    x=input('enter the string/num :')\n",
    "    rev=x[::-1]\n",
    "    if(x==rev):\n",
    "      print('its pallindrone')\n",
    "    else:\n",
    "      print('its not pallindrone')\n",
    "\n",
    "\n",
    "palindrome()\n",
    "        "
   ]
  },
  {
   "cell_type": "code",
   "execution_count": 3,
   "metadata": {},
   "outputs": [
    {
     "name": "stdout",
     "output_type": "stream",
     "text": [
      "enter size of list : 4\n",
      "enter the number :12\n",
      "enter the number :-7\n",
      "enter the number :0\n",
      "enter the number :9\n",
      "positive numbers 3\n",
      "negative numbers 1\n"
     ]
    }
   ],
   "source": [
    "#Calculate no of +ve and -ve numbers entered by a user\n",
    "\n",
    "N = int(input('enter size of list : '))\n",
    "\n",
    "ls= []\n",
    "\n",
    "for i in range(N):\n",
    "    y = int(input('enter the number :'))\n",
    "    ls.append(y)\n",
    "\n",
    "positive =0 # includeing 0\n",
    "negative =0 \n",
    "\n",
    "for i in ls:\n",
    "    if i >= 0:\n",
    "        positive += 1\n",
    "    else:\n",
    "        negative +=1\n",
    "\n",
    "print('positive numbers',positive)\n",
    "print('negative numbers',negative)"
   ]
  },
  {
   "cell_type": "code",
   "execution_count": 14,
   "metadata": {},
   "outputs": [
    {
     "name": "stdout",
     "output_type": "stream",
     "text": [
      "enter binary number : 1010\n",
      "binary quivalent  10\n"
     ]
    }
   ],
   "source": [
    "# Binary to Decimal Conversion\n",
    "bin_number = '0b'+str(input('enter binary number : '))\n",
    "print('binary quivalent ',int(eval(bin_number)))"
   ]
  },
  {
   "cell_type": "code",
   "execution_count": 15,
   "metadata": {},
   "outputs": [
    {
     "name": "stdout",
     "output_type": "stream",
     "text": [
      "[56, 'hello', 45.9, 'c']\n",
      "[56, 'hello', 45.9, 'c', 9]\n",
      "['hello', 45.9, 'c', 9]\n",
      "c\n"
     ]
    }
   ],
   "source": [
    "# list \n",
    "# can be modified \n",
    "ls_1=[56,'hello',45.9,'c']\n",
    "\n",
    "print(ls_1)\n",
    "\n",
    "ls_1.append(9)\n",
    "\n",
    "print(ls_1)\n",
    "\n",
    "ls_1.remove(56)\n",
    "\n",
    "print(ls_1)\n",
    "print(ls_1[2])"
   ]
  },
  {
   "cell_type": "code",
   "execution_count": 16,
   "metadata": {},
   "outputs": [
    {
     "name": "stdout",
     "output_type": "stream",
     "text": [
      "('joy', 23)\n",
      "joy\n"
     ]
    }
   ],
   "source": [
    "#tuple\n",
    "# cannot be modified\n",
    "\n",
    "tp = ('joy',23)\n",
    "\n",
    "print(tp)\n",
    "print(tp[0])\n"
   ]
  },
  {
   "cell_type": "code",
   "execution_count": 17,
   "metadata": {},
   "outputs": [
    {
     "name": "stdout",
     "output_type": "stream",
     "text": [
      "delhi\n",
      "{'india': 'delhi', 'uk': 'london', 'japan': 'tokyo', 'china': 'beijing'}\n"
     ]
    }
   ],
   "source": [
    "# dictionary \n",
    "# can be defined as list where index number is replaced by key value\n",
    "\n",
    "d = {\n",
    "    'india':'delhi',\n",
    "    'uk':'london',\n",
    "    'japan':'tokyo'\n",
    "}\n",
    "\n",
    "print(d['india'])\n",
    "d['china']= 'beijing'\n",
    "print(d)"
   ]
  },
  {
   "cell_type": "code",
   "execution_count": 18,
   "metadata": {},
   "outputs": [
    {
     "name": "stdout",
     "output_type": "stream",
     "text": [
      "{'a', 'c', 'b'}\n",
      "{'a', 'c', 'b', 'd'}\n",
      "{'a', 'c', 'b', 'd'}\n"
     ]
    }
   ],
   "source": [
    "# set\n",
    "# the are unordered collection with no repitation\n",
    "\n",
    "s = set(['a','b','c'])\n",
    "print(s)\n",
    "s.add('d')\n",
    "print(s)\n",
    "s.add('a')# repitation is avoided\n",
    "print(s)\n"
   ]
  },
  {
   "cell_type": "code",
   "execution_count": null,
   "metadata": {},
   "outputs": [],
   "source": []
  }
 ],
 "metadata": {
  "kernelspec": {
   "display_name": "Python 3.8.1 64-bit",
   "language": "python",
   "name": "python38164bit8e3c359eb8c54bbbb00582ab84cacbd1"
  },
  "language_info": {
   "codemirror_mode": {
    "name": "ipython",
    "version": 3
   },
   "file_extension": ".py",
   "mimetype": "text/x-python",
   "name": "python",
   "nbconvert_exporter": "python",
   "pygments_lexer": "ipython3",
   "version": "3.8.1"
  }
 },
 "nbformat": 4,
 "nbformat_minor": 4
}
